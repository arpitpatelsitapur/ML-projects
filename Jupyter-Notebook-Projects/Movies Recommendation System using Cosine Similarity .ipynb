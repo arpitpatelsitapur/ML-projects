{
 "cells": [
  {
   "cell_type": "markdown",
   "id": "7761e238",
   "metadata": {},
   "source": [
    "<h1 align='center'>Movies Recommendation System using Cosine Similarity </h1>"
   ]
  },
  {
   "cell_type": "markdown",
   "id": "16fd7b07",
   "metadata": {},
   "source": [
    "There are 3 types of Recoomendation systems :\n",
    " - `Content Based Recommendation system`: \n",
    "   - Utilizes user preferences and item characteristics to suggest items similar to those the user has liked. \n",
    "   - It relies on item features, such as keywords or genres, to make personalized recommendations.\n",
    " - `Popularity Based Recommendation system`: \n",
    "   - Suggests items based on their overall popularity or frequency of interaction by users.    - It recommends items that are widely liked or frequently accessed, without considering individual user preferences\n",
    " - `Collaborative Based Recommendation system`: \n",
    "   - Recommends items based on user behavior and preferences by analyzing user interactions. \n",
    "   - It can be user-user collaborative filtering (similar users' preferences) or item-item collaborative filtering (similar items liked by a user)."
   ]
  },
  {
   "cell_type": "markdown",
   "id": "6f369f69",
   "metadata": {},
   "source": [
    "Here we will create **Content Based Recommendation system**."
   ]
  },
  {
   "cell_type": "markdown",
   "id": "266bd196",
   "metadata": {},
   "source": [
    "## 1). Importing Dependencies"
   ]
  },
  {
   "cell_type": "code",
   "execution_count": 1,
   "id": "8f25daa6",
   "metadata": {},
   "outputs": [],
   "source": [
    "import numpy as np\n",
    "import pandas as pd\n",
    "import difflib\n",
    "from sklearn.feature_extraction.text import TfidfVectorizer\n",
    "from sklearn.metrics.pairwise import cosine_similarity"
   ]
  },
  {
   "cell_type": "code",
   "execution_count": 2,
   "id": "120c8e18",
   "metadata": {},
   "outputs": [
    {
     "data": {
      "text/html": [
       "<div>\n",
       "<style scoped>\n",
       "    .dataframe tbody tr th:only-of-type {\n",
       "        vertical-align: middle;\n",
       "    }\n",
       "\n",
       "    .dataframe tbody tr th {\n",
       "        vertical-align: top;\n",
       "    }\n",
       "\n",
       "    .dataframe thead th {\n",
       "        text-align: right;\n",
       "    }\n",
       "</style>\n",
       "<table border=\"1\" class=\"dataframe\">\n",
       "  <thead>\n",
       "    <tr style=\"text-align: right;\">\n",
       "      <th></th>\n",
       "      <th>index</th>\n",
       "      <th>budget</th>\n",
       "      <th>genres</th>\n",
       "      <th>homepage</th>\n",
       "      <th>id</th>\n",
       "      <th>keywords</th>\n",
       "      <th>original_language</th>\n",
       "      <th>original_title</th>\n",
       "      <th>overview</th>\n",
       "      <th>popularity</th>\n",
       "      <th>...</th>\n",
       "      <th>runtime</th>\n",
       "      <th>spoken_languages</th>\n",
       "      <th>status</th>\n",
       "      <th>tagline</th>\n",
       "      <th>title</th>\n",
       "      <th>vote_average</th>\n",
       "      <th>vote_count</th>\n",
       "      <th>cast</th>\n",
       "      <th>crew</th>\n",
       "      <th>director</th>\n",
       "    </tr>\n",
       "  </thead>\n",
       "  <tbody>\n",
       "    <tr>\n",
       "      <th>0</th>\n",
       "      <td>0</td>\n",
       "      <td>237000000</td>\n",
       "      <td>Action Adventure Fantasy Science Fiction</td>\n",
       "      <td>http://www.avatarmovie.com/</td>\n",
       "      <td>19995</td>\n",
       "      <td>culture clash future space war space colony so...</td>\n",
       "      <td>en</td>\n",
       "      <td>Avatar</td>\n",
       "      <td>In the 22nd century, a paraplegic Marine is di...</td>\n",
       "      <td>150.437577</td>\n",
       "      <td>...</td>\n",
       "      <td>162.0</td>\n",
       "      <td>[{\"iso_639_1\": \"en\", \"name\": \"English\"}, {\"iso...</td>\n",
       "      <td>Released</td>\n",
       "      <td>Enter the World of Pandora.</td>\n",
       "      <td>Avatar</td>\n",
       "      <td>7.2</td>\n",
       "      <td>11800</td>\n",
       "      <td>Sam Worthington Zoe Saldana Sigourney Weaver S...</td>\n",
       "      <td>[{'name': 'Stephen E. Rivkin', 'gender': 0, 'd...</td>\n",
       "      <td>James Cameron</td>\n",
       "    </tr>\n",
       "    <tr>\n",
       "      <th>1</th>\n",
       "      <td>1</td>\n",
       "      <td>300000000</td>\n",
       "      <td>Adventure Fantasy Action</td>\n",
       "      <td>http://disney.go.com/disneypictures/pirates/</td>\n",
       "      <td>285</td>\n",
       "      <td>ocean drug abuse exotic island east india trad...</td>\n",
       "      <td>en</td>\n",
       "      <td>Pirates of the Caribbean: At World's End</td>\n",
       "      <td>Captain Barbossa, long believed to be dead, ha...</td>\n",
       "      <td>139.082615</td>\n",
       "      <td>...</td>\n",
       "      <td>169.0</td>\n",
       "      <td>[{\"iso_639_1\": \"en\", \"name\": \"English\"}]</td>\n",
       "      <td>Released</td>\n",
       "      <td>At the end of the world, the adventure begins.</td>\n",
       "      <td>Pirates of the Caribbean: At World's End</td>\n",
       "      <td>6.9</td>\n",
       "      <td>4500</td>\n",
       "      <td>Johnny Depp Orlando Bloom Keira Knightley Stel...</td>\n",
       "      <td>[{'name': 'Dariusz Wolski', 'gender': 2, 'depa...</td>\n",
       "      <td>Gore Verbinski</td>\n",
       "    </tr>\n",
       "    <tr>\n",
       "      <th>2</th>\n",
       "      <td>2</td>\n",
       "      <td>245000000</td>\n",
       "      <td>Action Adventure Crime</td>\n",
       "      <td>http://www.sonypictures.com/movies/spectre/</td>\n",
       "      <td>206647</td>\n",
       "      <td>spy based on novel secret agent sequel mi6</td>\n",
       "      <td>en</td>\n",
       "      <td>Spectre</td>\n",
       "      <td>A cryptic message from Bond’s past sends him o...</td>\n",
       "      <td>107.376788</td>\n",
       "      <td>...</td>\n",
       "      <td>148.0</td>\n",
       "      <td>[{\"iso_639_1\": \"fr\", \"name\": \"Fran\\u00e7ais\"},...</td>\n",
       "      <td>Released</td>\n",
       "      <td>A Plan No One Escapes</td>\n",
       "      <td>Spectre</td>\n",
       "      <td>6.3</td>\n",
       "      <td>4466</td>\n",
       "      <td>Daniel Craig Christoph Waltz L\\u00e9a Seydoux ...</td>\n",
       "      <td>[{'name': 'Thomas Newman', 'gender': 2, 'depar...</td>\n",
       "      <td>Sam Mendes</td>\n",
       "    </tr>\n",
       "    <tr>\n",
       "      <th>3</th>\n",
       "      <td>3</td>\n",
       "      <td>250000000</td>\n",
       "      <td>Action Crime Drama Thriller</td>\n",
       "      <td>http://www.thedarkknightrises.com/</td>\n",
       "      <td>49026</td>\n",
       "      <td>dc comics crime fighter terrorist secret ident...</td>\n",
       "      <td>en</td>\n",
       "      <td>The Dark Knight Rises</td>\n",
       "      <td>Following the death of District Attorney Harve...</td>\n",
       "      <td>112.312950</td>\n",
       "      <td>...</td>\n",
       "      <td>165.0</td>\n",
       "      <td>[{\"iso_639_1\": \"en\", \"name\": \"English\"}]</td>\n",
       "      <td>Released</td>\n",
       "      <td>The Legend Ends</td>\n",
       "      <td>The Dark Knight Rises</td>\n",
       "      <td>7.6</td>\n",
       "      <td>9106</td>\n",
       "      <td>Christian Bale Michael Caine Gary Oldman Anne ...</td>\n",
       "      <td>[{'name': 'Hans Zimmer', 'gender': 2, 'departm...</td>\n",
       "      <td>Christopher Nolan</td>\n",
       "    </tr>\n",
       "    <tr>\n",
       "      <th>4</th>\n",
       "      <td>4</td>\n",
       "      <td>260000000</td>\n",
       "      <td>Action Adventure Science Fiction</td>\n",
       "      <td>http://movies.disney.com/john-carter</td>\n",
       "      <td>49529</td>\n",
       "      <td>based on novel mars medallion space travel pri...</td>\n",
       "      <td>en</td>\n",
       "      <td>John Carter</td>\n",
       "      <td>John Carter is a war-weary, former military ca...</td>\n",
       "      <td>43.926995</td>\n",
       "      <td>...</td>\n",
       "      <td>132.0</td>\n",
       "      <td>[{\"iso_639_1\": \"en\", \"name\": \"English\"}]</td>\n",
       "      <td>Released</td>\n",
       "      <td>Lost in our world, found in another.</td>\n",
       "      <td>John Carter</td>\n",
       "      <td>6.1</td>\n",
       "      <td>2124</td>\n",
       "      <td>Taylor Kitsch Lynn Collins Samantha Morton Wil...</td>\n",
       "      <td>[{'name': 'Andrew Stanton', 'gender': 2, 'depa...</td>\n",
       "      <td>Andrew Stanton</td>\n",
       "    </tr>\n",
       "  </tbody>\n",
       "</table>\n",
       "<p>5 rows × 24 columns</p>\n",
       "</div>"
      ],
      "text/plain": [
       "   index     budget                                    genres  \\\n",
       "0      0  237000000  Action Adventure Fantasy Science Fiction   \n",
       "1      1  300000000                  Adventure Fantasy Action   \n",
       "2      2  245000000                    Action Adventure Crime   \n",
       "3      3  250000000               Action Crime Drama Thriller   \n",
       "4      4  260000000          Action Adventure Science Fiction   \n",
       "\n",
       "                                       homepage      id  \\\n",
       "0                   http://www.avatarmovie.com/   19995   \n",
       "1  http://disney.go.com/disneypictures/pirates/     285   \n",
       "2   http://www.sonypictures.com/movies/spectre/  206647   \n",
       "3            http://www.thedarkknightrises.com/   49026   \n",
       "4          http://movies.disney.com/john-carter   49529   \n",
       "\n",
       "                                            keywords original_language  \\\n",
       "0  culture clash future space war space colony so...                en   \n",
       "1  ocean drug abuse exotic island east india trad...                en   \n",
       "2         spy based on novel secret agent sequel mi6                en   \n",
       "3  dc comics crime fighter terrorist secret ident...                en   \n",
       "4  based on novel mars medallion space travel pri...                en   \n",
       "\n",
       "                             original_title  \\\n",
       "0                                    Avatar   \n",
       "1  Pirates of the Caribbean: At World's End   \n",
       "2                                   Spectre   \n",
       "3                     The Dark Knight Rises   \n",
       "4                               John Carter   \n",
       "\n",
       "                                            overview  popularity  ... runtime  \\\n",
       "0  In the 22nd century, a paraplegic Marine is di...  150.437577  ...   162.0   \n",
       "1  Captain Barbossa, long believed to be dead, ha...  139.082615  ...   169.0   \n",
       "2  A cryptic message from Bond’s past sends him o...  107.376788  ...   148.0   \n",
       "3  Following the death of District Attorney Harve...  112.312950  ...   165.0   \n",
       "4  John Carter is a war-weary, former military ca...   43.926995  ...   132.0   \n",
       "\n",
       "                                    spoken_languages    status  \\\n",
       "0  [{\"iso_639_1\": \"en\", \"name\": \"English\"}, {\"iso...  Released   \n",
       "1           [{\"iso_639_1\": \"en\", \"name\": \"English\"}]  Released   \n",
       "2  [{\"iso_639_1\": \"fr\", \"name\": \"Fran\\u00e7ais\"},...  Released   \n",
       "3           [{\"iso_639_1\": \"en\", \"name\": \"English\"}]  Released   \n",
       "4           [{\"iso_639_1\": \"en\", \"name\": \"English\"}]  Released   \n",
       "\n",
       "                                          tagline  \\\n",
       "0                     Enter the World of Pandora.   \n",
       "1  At the end of the world, the adventure begins.   \n",
       "2                           A Plan No One Escapes   \n",
       "3                                 The Legend Ends   \n",
       "4            Lost in our world, found in another.   \n",
       "\n",
       "                                      title vote_average vote_count  \\\n",
       "0                                    Avatar          7.2      11800   \n",
       "1  Pirates of the Caribbean: At World's End          6.9       4500   \n",
       "2                                   Spectre          6.3       4466   \n",
       "3                     The Dark Knight Rises          7.6       9106   \n",
       "4                               John Carter          6.1       2124   \n",
       "\n",
       "                                                cast  \\\n",
       "0  Sam Worthington Zoe Saldana Sigourney Weaver S...   \n",
       "1  Johnny Depp Orlando Bloom Keira Knightley Stel...   \n",
       "2  Daniel Craig Christoph Waltz L\\u00e9a Seydoux ...   \n",
       "3  Christian Bale Michael Caine Gary Oldman Anne ...   \n",
       "4  Taylor Kitsch Lynn Collins Samantha Morton Wil...   \n",
       "\n",
       "                                                crew           director  \n",
       "0  [{'name': 'Stephen E. Rivkin', 'gender': 0, 'd...      James Cameron  \n",
       "1  [{'name': 'Dariusz Wolski', 'gender': 2, 'depa...     Gore Verbinski  \n",
       "2  [{'name': 'Thomas Newman', 'gender': 2, 'depar...         Sam Mendes  \n",
       "3  [{'name': 'Hans Zimmer', 'gender': 2, 'departm...  Christopher Nolan  \n",
       "4  [{'name': 'Andrew Stanton', 'gender': 2, 'depa...     Andrew Stanton  \n",
       "\n",
       "[5 rows x 24 columns]"
      ]
     },
     "execution_count": 2,
     "metadata": {},
     "output_type": "execute_result"
    }
   ],
   "source": [
    "df=pd.read_csv('../Datasets/movies.csv')\n",
    "df.head()"
   ]
  },
  {
   "cell_type": "markdown",
   "id": "280c79a5",
   "metadata": {},
   "source": [
    "## 2). Data Preprocessing"
   ]
  },
  {
   "cell_type": "code",
   "execution_count": 3,
   "id": "c8b50bb3",
   "metadata": {},
   "outputs": [
    {
     "data": {
      "text/plain": [
       "(4803, 24)"
      ]
     },
     "execution_count": 3,
     "metadata": {},
     "output_type": "execute_result"
    }
   ],
   "source": [
    "df.shape"
   ]
  },
  {
   "cell_type": "code",
   "execution_count": 4,
   "id": "dc5af8bd",
   "metadata": {},
   "outputs": [
    {
     "data": {
      "text/plain": [
       "index                      0\n",
       "budget                     0\n",
       "genres                    28\n",
       "homepage                3091\n",
       "id                         0\n",
       "keywords                 412\n",
       "original_language          0\n",
       "original_title             0\n",
       "overview                   3\n",
       "popularity                 0\n",
       "production_companies       0\n",
       "production_countries       0\n",
       "release_date               1\n",
       "revenue                    0\n",
       "runtime                    2\n",
       "spoken_languages           0\n",
       "status                     0\n",
       "tagline                  844\n",
       "title                      0\n",
       "vote_average               0\n",
       "vote_count                 0\n",
       "cast                      43\n",
       "crew                       0\n",
       "director                  30\n",
       "dtype: int64"
      ]
     },
     "execution_count": 4,
     "metadata": {},
     "output_type": "execute_result"
    }
   ],
   "source": [
    "df.isnull().sum()"
   ]
  },
  {
   "cell_type": "markdown",
   "id": "4291bf74",
   "metadata": {},
   "source": [
    "### 2.1) Selecting Relevant Features"
   ]
  },
  {
   "cell_type": "code",
   "execution_count": 5,
   "id": "1bcef188",
   "metadata": {},
   "outputs": [],
   "source": [
    "selected_features=['genres','keywords','tagline','cast','director']"
   ]
  },
  {
   "cell_type": "code",
   "execution_count": 6,
   "id": "ca518a3b",
   "metadata": {},
   "outputs": [
    {
     "data": {
      "text/plain": [
       "['genres', 'keywords', 'tagline', 'cast', 'director']"
      ]
     },
     "execution_count": 6,
     "metadata": {},
     "output_type": "execute_result"
    }
   ],
   "source": [
    "selected_features"
   ]
  },
  {
   "cell_type": "markdown",
   "id": "32f9ebdf",
   "metadata": {},
   "source": [
    "### 2.2) Replacing null values with null string"
   ]
  },
  {
   "cell_type": "code",
   "execution_count": 7,
   "id": "ef829aab",
   "metadata": {},
   "outputs": [],
   "source": [
    "for feature in selected_features:\n",
    "    df[feature]=df[feature].fillna('')"
   ]
  },
  {
   "cell_type": "markdown",
   "id": "59b85273",
   "metadata": {},
   "source": [
    "### 2.3) Combing All features"
   ]
  },
  {
   "cell_type": "code",
   "execution_count": 8,
   "id": "c9bbb249",
   "metadata": {},
   "outputs": [],
   "source": [
    "combined_features=df['genres']+' '+df['keywords']+' '+df['tagline']+' '+df['cast']+' '+df['director']"
   ]
  },
  {
   "cell_type": "code",
   "execution_count": 9,
   "id": "68b6579f",
   "metadata": {},
   "outputs": [
    {
     "data": {
      "text/plain": [
       "0       Action Adventure Fantasy Science Fiction cultu...\n",
       "1       Adventure Fantasy Action ocean drug abuse exot...\n",
       "2       Action Adventure Crime spy based on novel secr...\n",
       "3       Action Crime Drama Thriller dc comics crime fi...\n",
       "4       Action Adventure Science Fiction based on nove...\n",
       "                              ...                        \n",
       "4798    Action Crime Thriller united states\\u2013mexic...\n",
       "4799    Comedy Romance  A newlywed couple's honeymoon ...\n",
       "4800    Comedy Drama Romance TV Movie date love at fir...\n",
       "4801      A New Yorker in Shanghai Daniel Henney Eliza...\n",
       "4802    Documentary obsession camcorder crush dream gi...\n",
       "Length: 4803, dtype: object"
      ]
     },
     "execution_count": 9,
     "metadata": {},
     "output_type": "execute_result"
    }
   ],
   "source": [
    "combined_features"
   ]
  },
  {
   "cell_type": "markdown",
   "id": "6aa238e2",
   "metadata": {},
   "source": [
    "### 2.4) Convert text data to feature vectors"
   ]
  },
  {
   "cell_type": "code",
   "execution_count": 10,
   "id": "7e74f659",
   "metadata": {},
   "outputs": [],
   "source": [
    "vectorizer=TfidfVectorizer()"
   ]
  },
  {
   "cell_type": "code",
   "execution_count": 11,
   "id": "8045214b",
   "metadata": {},
   "outputs": [],
   "source": [
    "feature_vectors=vectorizer.fit_transform(combined_features)"
   ]
  },
  {
   "cell_type": "code",
   "execution_count": 12,
   "id": "7a229aee",
   "metadata": {},
   "outputs": [],
   "source": [
    "# print(feature_vectors)"
   ]
  },
  {
   "cell_type": "markdown",
   "id": "fbd3923e",
   "metadata": {},
   "source": [
    "### 2.5). Cosine Similarity"
   ]
  },
  {
   "cell_type": "code",
   "execution_count": 13,
   "id": "b8463507",
   "metadata": {},
   "outputs": [],
   "source": [
    "similarity=cosine_similarity(feature_vectors)"
   ]
  },
  {
   "cell_type": "code",
   "execution_count": 14,
   "id": "29a04b6d",
   "metadata": {},
   "outputs": [
    {
     "name": "stdout",
     "output_type": "stream",
     "text": [
      "[[1.         0.07219487 0.037733   ... 0.         0.         0.        ]\n",
      " [0.07219487 1.         0.03281499 ... 0.03575545 0.         0.        ]\n",
      " [0.037733   0.03281499 1.         ... 0.         0.05389661 0.        ]\n",
      " ...\n",
      " [0.         0.03575545 0.         ... 1.         0.         0.02651502]\n",
      " [0.         0.         0.05389661 ... 0.         1.         0.        ]\n",
      " [0.         0.         0.         ... 0.02651502 0.         1.        ]]\n"
     ]
    }
   ],
   "source": [
    "print(similarity)"
   ]
  },
  {
   "cell_type": "code",
   "execution_count": 15,
   "id": "bc91c89a",
   "metadata": {},
   "outputs": [
    {
     "data": {
      "text/plain": [
       "(4803, 4803)"
      ]
     },
     "execution_count": 15,
     "metadata": {},
     "output_type": "execute_result"
    }
   ],
   "source": [
    "similarity.shape"
   ]
  },
  {
   "cell_type": "markdown",
   "id": "3cf29d26",
   "metadata": {},
   "source": [
    "### 2.6). Creating List that contains Names of all movies"
   ]
  },
  {
   "cell_type": "code",
   "execution_count": 16,
   "id": "403f2bca",
   "metadata": {},
   "outputs": [],
   "source": [
    "list_of_all_movies=df['title'].tolist()"
   ]
  },
  {
   "cell_type": "code",
   "execution_count": 17,
   "id": "2ef9efbc",
   "metadata": {
    "scrolled": false
   },
   "outputs": [],
   "source": [
    "# print(list_of_all_movies)"
   ]
  },
  {
   "cell_type": "markdown",
   "id": "b31bc4f6",
   "metadata": {},
   "source": [
    "## 3).Recommender System\n",
    "### 3.1). Taking movie name as input"
   ]
  },
  {
   "cell_type": "code",
   "execution_count": 18,
   "id": "1191e253",
   "metadata": {},
   "outputs": [
    {
     "name": "stdout",
     "output_type": "stream",
     "text": [
      "Enter your Favourite Movie : sunshine\n"
     ]
    }
   ],
   "source": [
    "movie_name=input(\"Enter your Favourite Movie : \")"
   ]
  },
  {
   "cell_type": "code",
   "execution_count": 19,
   "id": "2d2253e2",
   "metadata": {},
   "outputs": [
    {
     "data": {
      "text/plain": [
       "'sunshine'"
      ]
     },
     "execution_count": 19,
     "metadata": {},
     "output_type": "execute_result"
    }
   ],
   "source": [
    "movie_name"
   ]
  },
  {
   "cell_type": "markdown",
   "id": "2ea94690",
   "metadata": {},
   "source": [
    "### 3.2). Finding Close match for movie name given by user"
   ]
  },
  {
   "cell_type": "code",
   "execution_count": 20,
   "id": "8e14fe08",
   "metadata": {},
   "outputs": [],
   "source": [
    "find_close_match=difflib.get_close_matches(movie_name,list_of_all_movies)"
   ]
  },
  {
   "cell_type": "code",
   "execution_count": 21,
   "id": "192daddd",
   "metadata": {},
   "outputs": [
    {
     "data": {
      "text/plain": [
       "['Sunshine', 'Sunshine State', 'Shine']"
      ]
     },
     "execution_count": 21,
     "metadata": {},
     "output_type": "execute_result"
    }
   ],
   "source": [
    "find_close_match"
   ]
  },
  {
   "cell_type": "code",
   "execution_count": 22,
   "id": "62fd47ac",
   "metadata": {},
   "outputs": [],
   "source": [
    "close_match=find_close_match[0]"
   ]
  },
  {
   "cell_type": "markdown",
   "id": "7507c09a",
   "metadata": {},
   "source": [
    "### 3.3). Finding index of Close_match "
   ]
  },
  {
   "cell_type": "code",
   "execution_count": 23,
   "id": "0a71a592",
   "metadata": {},
   "outputs": [],
   "source": [
    "index_of_movie=df[df['title']==close_match]['index'].values[0]"
   ]
  },
  {
   "cell_type": "code",
   "execution_count": 24,
   "id": "b6f6e647",
   "metadata": {},
   "outputs": [
    {
     "data": {
      "text/plain": [
       "1275"
      ]
     },
     "execution_count": 24,
     "metadata": {},
     "output_type": "execute_result"
    }
   ],
   "source": [
    "index_of_movie"
   ]
  },
  {
   "cell_type": "markdown",
   "id": "1ea31b54",
   "metadata": {},
   "source": [
    "### 3.4). List of similiar movies"
   ]
  },
  {
   "cell_type": "code",
   "execution_count": 25,
   "id": "ea03ec1d",
   "metadata": {},
   "outputs": [],
   "source": [
    "similarity_sore=list(enumerate(similarity[index_of_movie]))"
   ]
  },
  {
   "cell_type": "code",
   "execution_count": 26,
   "id": "bbb810f0",
   "metadata": {
    "scrolled": false
   },
   "outputs": [],
   "source": [
    "# similarity_sore"
   ]
  },
  {
   "cell_type": "code",
   "execution_count": 27,
   "id": "67b1a997",
   "metadata": {},
   "outputs": [
    {
     "data": {
      "text/plain": [
       "4803"
      ]
     },
     "execution_count": 27,
     "metadata": {},
     "output_type": "execute_result"
    }
   ],
   "source": [
    "len(similarity_sore)"
   ]
  },
  {
   "cell_type": "markdown",
   "id": "9b9ef307",
   "metadata": {},
   "source": [
    "### 3.5). Sorting movies Based on similarity score"
   ]
  },
  {
   "cell_type": "code",
   "execution_count": 28,
   "id": "628f36c7",
   "metadata": {},
   "outputs": [],
   "source": [
    "sorted_similar_movies=sorted(similarity_sore,key=lambda x:x[1],reverse=True)"
   ]
  },
  {
   "cell_type": "code",
   "execution_count": 29,
   "id": "9aa25918",
   "metadata": {
    "scrolled": false
   },
   "outputs": [],
   "source": [
    "# sorted_similar_movies"
   ]
  },
  {
   "cell_type": "markdown",
   "id": "de8b490c",
   "metadata": {},
   "source": [
    "### 3.6). Finding movies to be Suggested"
   ]
  },
  {
   "cell_type": "code",
   "execution_count": 30,
   "id": "9b2f54a2",
   "metadata": {},
   "outputs": [
    {
     "name": "stdout",
     "output_type": "stream",
     "text": [
      "Recommended Movies :\n",
      "1 : Sunshine\n",
      "2 : Men in Black II\n",
      "3 : Men in Black\n",
      "4 : Silent Running\n",
      "5 : Cellular\n",
      "6 : AVP: Alien vs. Predator\n",
      "7 : Do the Right Thing\n",
      "8 : Wicker Park\n",
      "9 : Collateral Damage\n",
      "10 : Alien\n",
      "11 : Mars Attacks!\n",
      "12 : Avatar\n",
      "13 : X-Men: First Class\n",
      "14 : 28 Days Later\n",
      "15 : Transformers: Revenge of the Fallen\n",
      "16 : Space Chimps\n",
      "17 : Moonraker\n",
      "18 : The Shadow\n",
      "19 : The Helix... Loaded\n",
      "20 : Star Trek IV: The Voyage Home\n"
     ]
    }
   ],
   "source": [
    "print('Recommended Movies :')\n",
    "i=1\n",
    "for movie in sorted_similar_movies:\n",
    "    index=movie[0]\n",
    "    movie_title=df[df.index==index]['title'].values[0]\n",
    "    if(i<=20):\n",
    "        print(f\"{i} : {movie_title}\")\n",
    "        i=i+1"
   ]
  },
  {
   "cell_type": "markdown",
   "id": "964d2014",
   "metadata": {},
   "source": [
    "# Final Predictive System"
   ]
  },
  {
   "cell_type": "code",
   "execution_count": 33,
   "id": "a363c474",
   "metadata": {},
   "outputs": [
    {
     "name": "stdout",
     "output_type": "stream",
     "text": [
      "Enter your Favourite Movie : hercules\n",
      "Recommended Movies :\n",
      "1 : Hercules\n",
      "2 : The Hustler\n",
      "3 : The Scorpion King\n",
      "4 : The Young Messiah\n",
      "5 : Light Sleeper\n",
      "6 : A Knight's Tale\n",
      "7 : The Greatest Movie Ever Sold\n",
      "8 : Red Dragon\n",
      "9 : Back to the Future\n",
      "10 : Dark City\n",
      "11 : Gandhi, My Father\n",
      "12 : Alexander\n",
      "13 : The Last Emperor\n",
      "14 : Illuminata\n",
      "15 : X-Men: The Last Stand\n",
      "16 : Sholem Aleichem: Laughing In The Darkness\n",
      "17 : Extreme Ops\n",
      "18 : Dragonslayer\n",
      "19 : Splash\n",
      "20 : Restless\n"
     ]
    }
   ],
   "source": [
    "movie_name=input(\"Enter your Favourite Movie : \")\n",
    "find_close_match=difflib.get_close_matches(movie_name,list_of_all_movies)\n",
    "close_match=find_close_match[0]\n",
    "index_of_movie=df[df['title']==close_match]['index'].values[0]\n",
    "similarity_sore=list(enumerate(similarity[index_of_movie]))\n",
    "sorted_similar_movies=sorted(similarity_sore,key=lambda x:x[1],reverse=True)\n",
    "\n",
    "print('Recommended Movies :')\n",
    "i=1\n",
    "for movie in sorted_similar_movies:\n",
    "    index=movie[0]\n",
    "    movie_title=df[df.index==index]['title'].values[0]\n",
    "    if(i<=20):\n",
    "        print(f\"{i} : {movie_title}\")\n",
    "        i=i+1"
   ]
  },
  {
   "cell_type": "code",
   "execution_count": null,
   "id": "fd236cee",
   "metadata": {},
   "outputs": [],
   "source": []
  },
  {
   "cell_type": "code",
   "execution_count": null,
   "id": "6993b549",
   "metadata": {},
   "outputs": [],
   "source": []
  },
  {
   "cell_type": "code",
   "execution_count": null,
   "id": "1f8a704c",
   "metadata": {},
   "outputs": [],
   "source": []
  }
 ],
 "metadata": {
  "kernelspec": {
   "display_name": "Python 3 (ipykernel)",
   "language": "python",
   "name": "python3"
  },
  "language_info": {
   "codemirror_mode": {
    "name": "ipython",
    "version": 3
   },
   "file_extension": ".py",
   "mimetype": "text/x-python",
   "name": "python",
   "nbconvert_exporter": "python",
   "pygments_lexer": "ipython3",
   "version": "3.11.5"
  }
 },
 "nbformat": 4,
 "nbformat_minor": 5
}
